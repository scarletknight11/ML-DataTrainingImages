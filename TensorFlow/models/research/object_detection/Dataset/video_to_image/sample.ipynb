{
 "cells": [
  {
   "metadata": {},
   "cell_type": "markdown",
   "source": [
    "# This is a sample Jupyter Notebook\n",
    "\n",
    "Below is an example of a code cell. \n",
    "Put your cursor into the cell and press Shift+Enter to execute it and select the next one, or click !here goes the icon of the corresponding button in the gutter! button.\n",
    "To debug a cell, press Alt+Shift+Enter, or click !here goes the icon of the corresponding button in the gutter! button.\n",
    "\n",
    "Press Double Shift to search everywhere for classes, files, tool windows, actions, and settings.\n",
    "\n",
    "To learn more about Jupyter Notebooks in PyCharm, see [help](https://www.jetbrains.com/help/pycharm/jupyter-notebook-support.html).\n",
    "For an overview of PyCharm, go to Help -> Learn IDE features or refer to [our documentation](https://www.jetbrains.com/help/pycharm/getting-started.html)."
   ],
   "id": "8a77807f92f26ee"
  },
  {
   "metadata": {
    "ExecuteTime": {
     "end_time": "2025-03-03T18:53:38.256301Z",
     "start_time": "2025-03-03T18:53:35.386461Z"
    }
   },
   "cell_type": "code",
   "source": [
    "import cv2\n",
    "import numpy as np\n",
    "import pandas as pd\n",
    "import os"
   ],
   "id": "fbc121e30a2defb3",
   "outputs": [],
   "execution_count": 1
  },
  {
   "metadata": {
    "ExecuteTime": {
     "end_time": "2025-03-03T18:53:40.133249Z",
     "start_time": "2025-03-03T18:53:40.128421Z"
    }
   },
   "cell_type": "code",
   "source": [
    "# we will save images in images folder\n",
    "videos_path = \"videos\"\n",
    "save_path = \"images\"\n",
    "running_count = 1\n",
    "\n",
    "# Check and create 'videos' directory if it doesn't exist\n",
    "if not os.path.exists(videos_path):\n",
    "    print(f\"Creating '{videos_path}' directory...\")\n",
    "    os.makedirs(videos_path)\n",
    "\n",
    "# Check and create 'images' directory if it doesn't exist\n",
    "if not os.path.exists(save_path):\n",
    "    print(f\"Creating '{save_path}' directory...\")\n",
    "    os.makedirs(save_path)\n",
    "\n",
    "# Now, list files inside the videos directory\n",
    "list_video = os.listdir(\"videos\")\n",
    "print(\"Videos found:\", list_video)\n"
   ],
   "id": "69a1b34603ef530b",
   "outputs": [
    {
     "name": "stdout",
     "output_type": "stream",
     "text": [
      "Videos found: []\n"
     ]
    }
   ],
   "execution_count": 2
  },
  {
   "metadata": {
    "ExecuteTime": {
     "end_time": "2025-03-03T18:53:43.474271Z",
     "start_time": "2025-03-03T18:53:43.469539Z"
    }
   },
   "cell_type": "code",
   "source": [
    "# loop through each video\n",
    "for i in range(len(list_video)):\n",
    "    # path of video\n",
    "    path=\"videos/\" + list_video[i]\n",
    "    # then we will use video capture to read video\n",
    "    cap = cv2.VideoCapture(path)\n",
    "    \n",
    "    # loop through each frame\n",
    "    while(cap.isOpened()):\n",
    "        ret,frame=cap.read()\n",
    "        # ret is false when frame is null\n",
    "        # ret is true when frame is not null\n",
    "        count=count+1\n",
    "        if ret==True:\n",
    "            # do process\n",
    "            # now create a counter to save photo every 30 frames per second\n",
    "            if (count % 30 == 0):\n",
    "                # save image\n",
    "                # now we will create another counter which will increase\n",
    "                # EVERY 30 FRAMES by 1\n",
    "                cv2.imwrite(save_path+\"/\"+str(running_count)+\".jpg\",frame)\n",
    "                running_count=running_count+1\n",
    "        else:\n",
    "            cap.release()"
   ],
   "id": "f690f20383995e54",
   "outputs": [],
   "execution_count": 3
  },
  {
   "metadata": {},
   "cell_type": "code",
   "outputs": [],
   "execution_count": null,
   "source": "",
   "id": "ea1eac82e5ff1ec1"
  }
 ],
 "metadata": {
  "kernelspec": {
   "display_name": "Python 3",
   "language": "python",
   "name": "python3"
  },
  "language_info": {
   "codemirror_mode": {
    "name": "ipython",
    "version": 2
   },
   "file_extension": ".py",
   "mimetype": "text/x-python",
   "name": "python",
   "nbconvert_exporter": "python",
   "pygments_lexer": "ipython2",
   "version": "2.7.6"
  }
 },
 "nbformat": 4,
 "nbformat_minor": 5
}
