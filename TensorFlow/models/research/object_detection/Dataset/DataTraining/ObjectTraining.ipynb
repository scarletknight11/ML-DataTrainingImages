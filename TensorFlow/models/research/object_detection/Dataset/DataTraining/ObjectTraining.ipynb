{
 "cells": [
  {
   "cell_type": "code",
   "id": "initial_id",
   "metadata": {
    "collapsed": true,
    "ExecuteTime": {
     "end_time": "2025-04-02T16:45:26.351874Z",
     "start_time": "2025-04-02T16:45:19.784729Z"
    }
   },
   "source": [
    "# import all libraries\n",
    "import numpy as np\n",
    "import pandas as pd\n",
    "import os\n",
    "import cv2\n",
    "import tensorflow as tf"
   ],
   "outputs": [],
   "execution_count": 1
  },
  {
   "metadata": {
    "ExecuteTime": {
     "end_time": "2025-04-02T16:45:29.983574Z",
     "start_time": "2025-04-02T16:45:29.968811Z"
    }
   },
   "cell_type": "code",
   "source": [
    "from tqdm import tqdm\n",
    "# this will add progress bar to \"for loop\""
   ],
   "id": "a20dddb1ebc6c1d3",
   "outputs": [],
   "execution_count": 2
  },
  {
   "metadata": {
    "ExecuteTime": {
     "end_time": "2025-04-02T16:45:31.994831Z",
     "start_time": "2025-04-02T16:45:31.985052Z"
    }
   },
   "cell_type": "code",
   "source": [
    "#shows all files in dataset\n",
    "files=os.listdir(\"C:/Users/sanji/Documents/dataset/\")\n",
    "files"
   ],
   "id": "6c3a628653e44175",
   "outputs": [
    {
     "data": {
      "text/plain": [
       "['aishwarya_rai',\n",
       " 'angelina_jolie',\n",
       " 'arnold_schwarzenegger',\n",
       " 'bhuvan_bam',\n",
       " 'brad_pitt',\n",
       " 'Courteney_Cox',\n",
       " 'David_Schwimmer',\n",
       " 'dhoni',\n",
       " 'hardik_pandya',\n",
       " 'Jennifer_Aniston',\n",
       " 'Jim_Parsons',\n",
       " 'Johnny_Galeck',\n",
       " 'Kunal_Nayya',\n",
       " 'Lisa_Kudrow',\n",
       " 'manoj_bajpayee',\n",
       " 'Matthew_Perry',\n",
       " 'Matt_LeBlanc',\n",
       " 'messi',\n",
       " 'mohamed_ali',\n",
       " 'Pankaj_Tripathi',\n",
       " 'pewdiepie',\n",
       " 'random_person',\n",
       " 'ROHIT_SHARMA',\n",
       " 'ronaldo',\n",
       " 'Sachin_Tendulka',\n",
       " 'scarlett_johansson',\n",
       " 'Simon_Helberg',\n",
       " 'suresh_raina',\n",
       " 'sylvester_stallone',\n",
       " 'virat_kohli']"
      ]
     },
     "execution_count": 3,
     "metadata": {},
     "output_type": "execute_result"
    }
   ],
   "execution_count": 3
  },
  {
   "metadata": {
    "ExecuteTime": {
     "end_time": "2025-04-02T16:48:02.626227Z",
     "start_time": "2025-04-02T16:45:33.424867Z"
    }
   },
   "cell_type": "code",
   "source": [
    "# We will now collect image array and label array\n",
    "image_array=[]\n",
    "# list we will convert into an array\n",
    "label_array=[] \n",
    "path = \"C:/Users/sanji/Documents/dataset/\"\n",
    "# loop through each dataset\n",
    "for i in range(len(files)):\n",
    "    # list of all files in each face folder\n",
    "    # path=path+files[i] -> complete path\n",
    "    file_sub=os.listdir(path+files[i])\n",
    "    for k in tqdm(range(len(file_sub))):\n",
    "        # loop through each faces\n",
    "        try:\n",
    "            img = cv2.imread(path+files[i]+\"/\"+file_sub[k])\n",
    "            # path+files[i]+\"/\"+file_sub[k] will look like this\n",
    "            \n",
    "            img = cv2.cvtColor(img, cv2.COLOR_BGRA2RGB)\n",
    "            # convert image color from BGR to RGB\n",
    "            # resize the image to (96, 96)\n",
    "            img = cv2.resize(img, (96, 96))\n",
    "            # if you want to train on different size change this\n",
    "            # training on small size like (48, 48) will increase frame rate in app\n",
    "            # training on large size like (192, 192) will increase accuracy but will \n",
    "            # decrease frame rate in app\n",
    "            image_array.append(img)\n",
    "            # add it to image_array\n",
    "            label_array.append(i)\n",
    "            # i is changing from 0-29\n",
    "            # so we will use it as our label\n",
    "        except:\n",
    "            pass"
   ],
   "id": "c63ae6599f826b3b",
   "outputs": [
    {
     "name": "stderr",
     "output_type": "stream",
     "text": [
      "100%|██████████| 711/711 [00:09<00:00, 73.05it/s] \n",
      "100%|██████████| 465/465 [00:06<00:00, 69.58it/s] \n",
      "100%|██████████| 553/553 [00:04<00:00, 118.72it/s]\n",
      "100%|██████████| 382/382 [00:02<00:00, 132.49it/s]\n",
      "100%|██████████| 552/552 [00:04<00:00, 114.99it/s]\n",
      "100%|██████████| 702/702 [00:06<00:00, 107.31it/s]\n",
      "100%|██████████| 537/537 [00:04<00:00, 116.74it/s]\n",
      "100%|██████████| 314/314 [00:02<00:00, 128.16it/s]\n",
      "100%|██████████| 292/292 [00:02<00:00, 133.75it/s]\n",
      "100%|██████████| 639/639 [00:05<00:00, 117.97it/s]\n",
      "100%|██████████| 639/639 [00:04<00:00, 129.10it/s]\n",
      "100%|██████████| 508/508 [00:04<00:00, 115.90it/s]\n",
      "100%|██████████| 532/532 [00:04<00:00, 130.28it/s]\n",
      "100%|██████████| 640/640 [00:05<00:00, 111.63it/s]\n",
      "100%|██████████| 457/457 [00:03<00:00, 135.08it/s]\n",
      "100%|██████████| 530/530 [00:04<00:00, 116.91it/s]\n",
      "100%|██████████| 449/449 [00:05<00:00, 84.98it/s] \n",
      "100%|██████████| 432/432 [00:03<00:00, 122.27it/s]\n",
      "100%|██████████| 338/338 [00:03<00:00, 96.58it/s] \n",
      "100%|██████████| 354/354 [00:03<00:00, 108.95it/s]\n",
      "100%|██████████| 395/395 [00:03<00:00, 112.31it/s]\n",
      "100%|██████████| 2250/2250 [00:23<00:00, 95.54it/s] \n",
      "100%|██████████| 265/265 [00:02<00:00, 117.79it/s]\n",
      "100%|██████████| 418/418 [00:03<00:00, 112.96it/s]\n",
      "100%|██████████| 354/354 [00:03<00:00, 114.19it/s]\n",
      "100%|██████████| 507/507 [00:05<00:00, 95.05it/s] \n",
      "100%|██████████| 484/484 [00:04<00:00, 111.70it/s]\n",
      "100%|██████████| 319/319 [00:02<00:00, 122.68it/s]\n",
      "100%|██████████| 480/480 [00:04<00:00, 105.88it/s]\n",
      "100%|██████████| 391/391 [00:03<00:00, 114.42it/s]\n"
     ]
    }
   ],
   "execution_count": 4
  },
  {
   "metadata": {
    "ExecuteTime": {
     "end_time": "2025-04-02T16:48:06.344261Z",
     "start_time": "2025-04-02T16:48:06.222285Z"
    }
   },
   "cell_type": "code",
   "source": [
    "# now we will clear our ram memory\n",
    "import gc\n",
    "gc.collect()"
   ],
   "id": "8006e560afec508e",
   "outputs": [
    {
     "data": {
      "text/plain": [
       "73"
      ]
     },
     "execution_count": 5,
     "metadata": {},
     "output_type": "execute_result"
    }
   ],
   "execution_count": 5
  },
  {
   "metadata": {
    "ExecuteTime": {
     "end_time": "2025-04-02T16:48:28.697407Z",
     "start_time": "2025-04-02T16:48:07.746166Z"
    }
   },
   "cell_type": "code",
   "source": [
    "# now we will convert image_array list to array\n",
    "# we also divide image by 255 to scale image from 0-255 to 0-1\n",
    "image_array = np.array(image_array)/255.0\n",
    "label_array = np.array(label_array)"
   ],
   "id": "5ddac7d5a50d505",
   "outputs": [],
   "execution_count": 6
  },
  {
   "metadata": {
    "ExecuteTime": {
     "end_time": "2025-04-02T16:48:33.273258Z",
     "start_time": "2025-04-02T16:48:33.255459Z"
    }
   },
   "cell_type": "code",
   "source": [
    "image_array[0]\n",
    "#  0-255 convert to 0-1"
   ],
   "id": "2cff736b3a0e55c2",
   "outputs": [
    {
     "data": {
      "text/plain": [
       "array([[[0.45490196, 0.38823529, 0.38039216],\n",
       "        [0.25490196, 0.18823529, 0.18039216],\n",
       "        [0.38823529, 0.33333333, 0.32156863],\n",
       "        ...,\n",
       "        [0.52941176, 0.5254902 , 0.50980392],\n",
       "        [0.27058824, 0.28235294, 0.2627451 ],\n",
       "        [0.25098039, 0.25098039, 0.24705882]],\n",
       "\n",
       "       [[0.52941176, 0.45490196, 0.43529412],\n",
       "        [0.4       , 0.3254902 , 0.30588235],\n",
       "        [0.45098039, 0.37647059, 0.36078431],\n",
       "        ...,\n",
       "        [0.30588235, 0.30588235, 0.29803922],\n",
       "        [0.30980392, 0.31764706, 0.31372549],\n",
       "        [0.25098039, 0.24705882, 0.26666667]],\n",
       "\n",
       "       [[0.44705882, 0.36862745, 0.34117647],\n",
       "        [0.40784314, 0.31764706, 0.28627451],\n",
       "        [0.47843137, 0.38431373, 0.36862745],\n",
       "        ...,\n",
       "        [0.36862745, 0.36078431, 0.36470588],\n",
       "        [0.29411765, 0.29803922, 0.30980392],\n",
       "        [0.24313725, 0.23921569, 0.26666667]],\n",
       "\n",
       "       ...,\n",
       "\n",
       "       [[0.01176471, 0.01176471, 0.01176471],\n",
       "        [0.01176471, 0.01176471, 0.01176471],\n",
       "        [0.00784314, 0.00784314, 0.00784314],\n",
       "        ...,\n",
       "        [0.05490196, 0.05098039, 0.07058824],\n",
       "        [0.04313725, 0.03921569, 0.05882353],\n",
       "        [0.05098039, 0.04705882, 0.06666667]],\n",
       "\n",
       "       [[0.01176471, 0.01176471, 0.01176471],\n",
       "        [0.01176471, 0.01176471, 0.01176471],\n",
       "        [0.00784314, 0.00784314, 0.00784314],\n",
       "        ...,\n",
       "        [0.05882353, 0.05490196, 0.0745098 ],\n",
       "        [0.03921569, 0.03529412, 0.05098039],\n",
       "        [0.04313725, 0.03921569, 0.0627451 ]],\n",
       "\n",
       "       [[0.01176471, 0.01176471, 0.01176471],\n",
       "        [0.01176471, 0.01176471, 0.01176471],\n",
       "        [0.00392157, 0.00392157, 0.00392157],\n",
       "        ...,\n",
       "        [0.05098039, 0.04705882, 0.06666667],\n",
       "        [0.05490196, 0.05098039, 0.07058824],\n",
       "        [0.05882353, 0.05490196, 0.0745098 ]]], shape=(96, 96, 3))"
      ]
     },
     "execution_count": 7,
     "metadata": {},
     "output_type": "execute_result"
    }
   ],
   "execution_count": 7
  },
  {
   "metadata": {
    "ExecuteTime": {
     "end_time": "2025-04-02T16:49:01.188785Z",
     "start_time": "2025-04-02T16:48:35.018046Z"
    }
   },
   "cell_type": "code",
   "source": [
    "# now we will split and shuffle our dataset for trainig and validation\n",
    "from sklearn.model_selection import train_test_split\n",
    "#                                                   images       label        splitting ratio \n",
    "X_train, X_test, Y_train, Y_test = train_test_split(image_array, label_array, test_size=0.15, random_state=0)"
   ],
   "id": "5c1b00d68ea4505",
   "outputs": [],
   "execution_count": 8
  },
  {
   "metadata": {
    "ExecuteTime": {
     "end_time": "2025-04-02T16:49:09.950408Z",
     "start_time": "2025-04-02T16:49:09.918953Z"
    }
   },
   "cell_type": "code",
   "source": [
    "# X_train and Y_train are 85% of images and label\n",
    "# X_test and Y_test are 15% of images and label"
   ],
   "id": "ccd00292f59ba77a",
   "outputs": [],
   "execution_count": 9
  },
  {
   "metadata": {
    "ExecuteTime": {
     "end_time": "2025-04-02T16:49:15.817165Z",
     "start_time": "2025-04-02T16:49:15.802242Z"
    }
   },
   "cell_type": "code",
   "source": [
    "# now we will create our model\n",
    "# we will use image classification model\n",
    "from keras import layers,callbacks,utils, applications, optimizers\n",
    "from keras import Sequential, Model"
   ],
   "id": "368dc8231ff7bfee",
   "outputs": [],
   "execution_count": 10
  },
  {
   "metadata": {
    "ExecuteTime": {
     "end_time": "2025-04-02T16:49:37.463160Z",
     "start_time": "2025-04-02T16:49:23.352153Z"
    }
   },
   "cell_type": "code",
   "source": [
    "# create model\n",
    "model = Sequential()\n",
    "# This time I will use EfficientNet pretrained model\n",
    "# you have several options in EfficientNet B0 to B7\n",
    "# B0 will have high frame rate but with low accuracy\n",
    "# B7 will have low frame rate but high accuracy\n",
    "pretrained_model = tf.keras.applications.EfficientNetB0(input_shape = (96,96,3), \n",
    "                                                        include_top = False,\n",
    "                                                        weights=\"imagenet\")\n",
    "# add it to our sequential model\n",
    "model.add(pretrained_model)\n",
    "# add some layers to improve accuracy\n",
    "model.add(layers.GlobalAveragePooling2D())\n",
    "model.add(layers.Dropout(0.3))\n",
    "\n",
    "# add dense layer with number of output\n",
    "model.add(layers.Dense(1))\n",
    "# output is 1 value which changes from 0 to 29\n",
    "# You can add some more layer to increase accuracy\n",
    "# but we will use basic model \n",
    "# Run\n",
    "# show summary "
   ],
   "id": "a8bbcc32755ce431",
   "outputs": [],
   "execution_count": 11
  },
  {
   "metadata": {
    "ExecuteTime": {
     "end_time": "2025-04-02T16:49:41.694105Z",
     "start_time": "2025-04-02T16:49:40.848764Z"
    }
   },
   "cell_type": "code",
   "source": "model.summary()",
   "id": "28e755039b6d1126",
   "outputs": [
    {
     "data": {
      "text/plain": [
       "\u001B[1mModel: \"sequential\"\u001B[0m\n"
      ],
      "text/html": [
       "<pre style=\"white-space:pre;overflow-x:auto;line-height:normal;font-family:Menlo,'DejaVu Sans Mono',consolas,'Courier New',monospace\"><span style=\"font-weight: bold\">Model: \"sequential\"</span>\n",
       "</pre>\n"
      ]
     },
     "metadata": {},
     "output_type": "display_data"
    },
    {
     "data": {
      "text/plain": [
       "┏━━━━━━━━━━━━━━━━━━━━━━━━━━━━━━━━━┳━━━━━━━━━━━━━━━━━━━━━━━━┳━━━━━━━━━━━━━━━┓\n",
       "┃\u001B[1m \u001B[0m\u001B[1mLayer (type)                   \u001B[0m\u001B[1m \u001B[0m┃\u001B[1m \u001B[0m\u001B[1mOutput Shape          \u001B[0m\u001B[1m \u001B[0m┃\u001B[1m \u001B[0m\u001B[1m      Param #\u001B[0m\u001B[1m \u001B[0m┃\n",
       "┡━━━━━━━━━━━━━━━━━━━━━━━━━━━━━━━━━╇━━━━━━━━━━━━━━━━━━━━━━━━╇━━━━━━━━━━━━━━━┩\n",
       "│ efficientnetb0 (\u001B[38;5;33mFunctional\u001B[0m)     │ (\u001B[38;5;45mNone\u001B[0m, \u001B[38;5;34m3\u001B[0m, \u001B[38;5;34m3\u001B[0m, \u001B[38;5;34m1280\u001B[0m)     │     \u001B[38;5;34m4,049,571\u001B[0m │\n",
       "├─────────────────────────────────┼────────────────────────┼───────────────┤\n",
       "│ global_average_pooling2d        │ (\u001B[38;5;45mNone\u001B[0m, \u001B[38;5;34m1280\u001B[0m)           │             \u001B[38;5;34m0\u001B[0m │\n",
       "│ (\u001B[38;5;33mGlobalAveragePooling2D\u001B[0m)        │                        │               │\n",
       "├─────────────────────────────────┼────────────────────────┼───────────────┤\n",
       "│ dropout (\u001B[38;5;33mDropout\u001B[0m)               │ (\u001B[38;5;45mNone\u001B[0m, \u001B[38;5;34m1280\u001B[0m)           │             \u001B[38;5;34m0\u001B[0m │\n",
       "├─────────────────────────────────┼────────────────────────┼───────────────┤\n",
       "│ dense (\u001B[38;5;33mDense\u001B[0m)                   │ (\u001B[38;5;45mNone\u001B[0m, \u001B[38;5;34m1\u001B[0m)              │         \u001B[38;5;34m1,281\u001B[0m │\n",
       "└─────────────────────────────────┴────────────────────────┴───────────────┘\n"
      ],
      "text/html": [
       "<pre style=\"white-space:pre;overflow-x:auto;line-height:normal;font-family:Menlo,'DejaVu Sans Mono',consolas,'Courier New',monospace\">┏━━━━━━━━━━━━━━━━━━━━━━━━━━━━━━━━━┳━━━━━━━━━━━━━━━━━━━━━━━━┳━━━━━━━━━━━━━━━┓\n",
       "┃<span style=\"font-weight: bold\"> Layer (type)                    </span>┃<span style=\"font-weight: bold\"> Output Shape           </span>┃<span style=\"font-weight: bold\">       Param # </span>┃\n",
       "┡━━━━━━━━━━━━━━━━━━━━━━━━━━━━━━━━━╇━━━━━━━━━━━━━━━━━━━━━━━━╇━━━━━━━━━━━━━━━┩\n",
       "│ efficientnetb0 (<span style=\"color: #0087ff; text-decoration-color: #0087ff\">Functional</span>)     │ (<span style=\"color: #00d7ff; text-decoration-color: #00d7ff\">None</span>, <span style=\"color: #00af00; text-decoration-color: #00af00\">3</span>, <span style=\"color: #00af00; text-decoration-color: #00af00\">3</span>, <span style=\"color: #00af00; text-decoration-color: #00af00\">1280</span>)     │     <span style=\"color: #00af00; text-decoration-color: #00af00\">4,049,571</span> │\n",
       "├─────────────────────────────────┼────────────────────────┼───────────────┤\n",
       "│ global_average_pooling2d        │ (<span style=\"color: #00d7ff; text-decoration-color: #00d7ff\">None</span>, <span style=\"color: #00af00; text-decoration-color: #00af00\">1280</span>)           │             <span style=\"color: #00af00; text-decoration-color: #00af00\">0</span> │\n",
       "│ (<span style=\"color: #0087ff; text-decoration-color: #0087ff\">GlobalAveragePooling2D</span>)        │                        │               │\n",
       "├─────────────────────────────────┼────────────────────────┼───────────────┤\n",
       "│ dropout (<span style=\"color: #0087ff; text-decoration-color: #0087ff\">Dropout</span>)               │ (<span style=\"color: #00d7ff; text-decoration-color: #00d7ff\">None</span>, <span style=\"color: #00af00; text-decoration-color: #00af00\">1280</span>)           │             <span style=\"color: #00af00; text-decoration-color: #00af00\">0</span> │\n",
       "├─────────────────────────────────┼────────────────────────┼───────────────┤\n",
       "│ dense (<span style=\"color: #0087ff; text-decoration-color: #0087ff\">Dense</span>)                   │ (<span style=\"color: #00d7ff; text-decoration-color: #00d7ff\">None</span>, <span style=\"color: #00af00; text-decoration-color: #00af00\">1</span>)              │         <span style=\"color: #00af00; text-decoration-color: #00af00\">1,281</span> │\n",
       "└─────────────────────────────────┴────────────────────────┴───────────────┘\n",
       "</pre>\n"
      ]
     },
     "metadata": {},
     "output_type": "display_data"
    },
    {
     "data": {
      "text/plain": [
       "\u001B[1m Total params: \u001B[0m\u001B[38;5;34m4,050,852\u001B[0m (15.45 MB)\n"
      ],
      "text/html": [
       "<pre style=\"white-space:pre;overflow-x:auto;line-height:normal;font-family:Menlo,'DejaVu Sans Mono',consolas,'Courier New',monospace\"><span style=\"font-weight: bold\"> Total params: </span><span style=\"color: #00af00; text-decoration-color: #00af00\">4,050,852</span> (15.45 MB)\n",
       "</pre>\n"
      ]
     },
     "metadata": {},
     "output_type": "display_data"
    },
    {
     "data": {
      "text/plain": [
       "\u001B[1m Trainable params: \u001B[0m\u001B[38;5;34m4,008,829\u001B[0m (15.29 MB)\n"
      ],
      "text/html": [
       "<pre style=\"white-space:pre;overflow-x:auto;line-height:normal;font-family:Menlo,'DejaVu Sans Mono',consolas,'Courier New',monospace\"><span style=\"font-weight: bold\"> Trainable params: </span><span style=\"color: #00af00; text-decoration-color: #00af00\">4,008,829</span> (15.29 MB)\n",
       "</pre>\n"
      ]
     },
     "metadata": {},
     "output_type": "display_data"
    },
    {
     "data": {
      "text/plain": [
       "\u001B[1m Non-trainable params: \u001B[0m\u001B[38;5;34m42,023\u001B[0m (164.16 KB)\n"
      ],
      "text/html": [
       "<pre style=\"white-space:pre;overflow-x:auto;line-height:normal;font-family:Menlo,'DejaVu Sans Mono',consolas,'Courier New',monospace\"><span style=\"font-weight: bold\"> Non-trainable params: </span><span style=\"color: #00af00; text-decoration-color: #00af00\">42,023</span> (164.16 KB)\n",
       "</pre>\n"
      ]
     },
     "metadata": {},
     "output_type": "display_data"
    }
   ],
   "execution_count": 12
  },
  {
   "metadata": {
    "ExecuteTime": {
     "end_time": "2025-04-02T16:49:54.975603Z",
     "start_time": "2025-04-02T16:49:54.957339Z"
    }
   },
   "cell_type": "code",
   "source": [
    "# now compile model\n",
    "model.compile(optimizer='adam', loss='mean_squared_error', metrics=['mae'])\n",
    "# optimizer: You can change it to some other optimizer to improve accuracy(SGD,etc)\n",
    "# loss: Try different losses to improve accuracy\n"
   ],
   "id": "4dd8e6791a5545fb",
   "outputs": [],
   "execution_count": 13
  },
  {
   "metadata": {
    "ExecuteTime": {
     "end_time": "2025-04-02T16:50:08.500618Z",
     "start_time": "2025-04-02T16:50:07.701914Z"
    }
   },
   "cell_type": "code",
   "source": [
    "# create a checkpoint to save the best accuracy model\n",
    "ckp_path = \"trained_model/model.weights.h5\"\n",
    "model_checkpoint = tf.keras.callbacks.ModelCheckpoint(filepath=ckp_path,\n",
    "                                                      monitor='val_loss',\n",
    "                                                      mode=\"auto\",\n",
    "                                                      save_best_only=True,\n",
    "                                                      save_weights_only=True)\n",
    "\n",
    "# monitor=\"val_mae\": watch mae of validation set & when it decreases save the model \n",
    "# mode: it is use to check for decrease of increase in mae\n",
    "# mode:(auto, min, max)\n",
    "# save_weights_only: if true save only weight (matrix of number)\n"
   ],
   "id": "7345bad167f2bd7f",
   "outputs": [],
   "execution_count": 14
  },
  {
   "metadata": {
    "ExecuteTime": {
     "end_time": "2025-04-02T16:50:16.216314Z",
     "start_time": "2025-04-02T16:50:15.621505Z"
    }
   },
   "cell_type": "code",
   "source": [
    "# create a lr reducer which will decrease learning rate when accuracy doesn't\n",
    "reduce_lr = tf.keras.callbacks.ReduceLROnPlateau(factors=0.9,\n",
    "                                                monitor=\"val_mae\",\n",
    "                                                mode=\"auto\",\n",
    "                                                cooldown=0,\n",
    "                                                patience=5,\n",
    "                                                verbose=1,\n",
    "                                                min_lr=1e-6)\n",
    "# patience: wait for 5 epoch then decrease learning rate\n",
    "# verbose : show accuracy every epoch\n",
    "# min_lr=minimum learning rate\n",
    "\n",
    "# you can choose other reduce_lr to increase accuracy"
   ],
   "id": "7b34f84e0b956b6",
   "outputs": [],
   "execution_count": 15
  },
  {
   "metadata": {
    "jupyter": {
     "is_executing": true
    },
    "ExecuteTime": {
     "start_time": "2025-04-01T18:49:55.167950Z"
    }
   },
   "cell_type": "code",
   "source": [
    "# train model\n",
    "Epoch=300\n",
    "Batch_Size=64\n",
    "history=model.fit(X_train,Y_train,\n",
    "                  validation_data=(X_test, Y_test),\n",
    "                  batch_size=Batch_Size,\n",
    "                  epochs=Epoch,\n",
    "                  callbacks=[model_checkpoint, reduce_lr])"
   ],
   "id": "8e65ba9b872f15a0",
   "outputs": [
    {
     "name": "stdout",
     "output_type": "stream",
     "text": [
      "Epoch 1/300\n"
     ]
    }
   ],
   "execution_count": null
  },
  {
   "metadata": {
    "jupyter": {
     "is_executing": true
    }
   },
   "cell_type": "code",
   "source": "# see val_mae is decreasing",
   "id": "a03fa46ec073afbc",
   "outputs": [],
   "execution_count": null
  },
  {
   "metadata": {},
   "cell_type": "code",
   "outputs": [],
   "execution_count": null,
   "source": [
    "# after the training is finished\n",
    "# load best model\n",
    "model.load_weights(ckp_path)"
   ],
   "id": "131caebef5d0a0c5"
  },
  {
   "metadata": {},
   "cell_type": "code",
   "outputs": [],
   "execution_count": null,
   "source": [
    "# convert best model to tensorflow lite format\n",
    "converter = tf.lite.TFLiteConverter.from_keras_model(model)\n",
    "tflite_model=converter.convert()\n",
    "# save model\n",
    "with open(\"model.tflite\", \"wb\") as f:\n",
    "    f.write(tflite_model)"
   ],
   "id": "2fac4764c7217c2c"
  },
  {
   "metadata": {},
   "cell_type": "code",
   "outputs": [],
   "execution_count": null,
   "source": [
    "# if you want to see prediction of validation set\n",
    "prediction_val = model.predict(X_test, batch_size=64)\n",
    "prediction_val[:20] # show first 20 value"
   ],
   "id": "5e776b65195bf19f"
  },
  {
   "metadata": {},
   "cell_type": "code",
   "outputs": [],
   "execution_count": null,
   "source": [
    "# original label\n",
    "X_test[:20]\n",
    "# Display already trained model"
   ],
   "id": "fd7764afd25aeb73"
  },
  {
   "metadata": {},
   "cell_type": "code",
   "outputs": [],
   "execution_count": null,
   "source": [
    "# to save model\n",
    "# this will run in fresh notebook"
   ],
   "id": "142fc1a6c09a6ebd"
  }
 ],
 "metadata": {
  "kernelspec": {
   "display_name": "Python 3",
   "language": "python",
   "name": "python3"
  },
  "language_info": {
   "codemirror_mode": {
    "name": "ipython",
    "version": 2
   },
   "file_extension": ".py",
   "mimetype": "text/x-python",
   "name": "python",
   "nbconvert_exporter": "python",
   "pygments_lexer": "ipython2",
   "version": "2.7.6"
  }
 },
 "nbformat": 4,
 "nbformat_minor": 5
}
